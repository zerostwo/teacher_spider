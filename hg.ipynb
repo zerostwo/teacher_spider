{
 "cells": [
  {
   "cell_type": "code",
   "execution_count": 1,
   "id": "1eb5f68b",
   "metadata": {},
   "outputs": [],
   "source": [
    "import requests\n",
    "from bs4 import BeautifulSoup\n",
    "import pandas as pd"
   ]
  },
  {
   "cell_type": "code",
   "execution_count": 2,
   "id": "67bd8b95",
   "metadata": {},
   "outputs": [],
   "source": [
    "url = \"http://www2.scut.edu.cn/sp/jsfc/list.htm\""
   ]
  },
  {
   "cell_type": "code",
   "execution_count": 3,
   "id": "317f8119",
   "metadata": {},
   "outputs": [],
   "source": [
    "r = requests.get(url)\n",
    "r.encoding = r.apparent_encoding\n",
    "soup = BeautifulSoup(r.text)"
   ]
  },
  {
   "cell_type": "code",
   "execution_count": 4,
   "id": "19b8d971",
   "metadata": {},
   "outputs": [],
   "source": [
    "a = soup.find_all(\"a\", {\"target\": \"_blank\"})"
   ]
  },
  {
   "cell_type": "code",
   "execution_count": 13,
   "id": "7e418d1c",
   "metadata": {
    "scrolled": true,
    "tags": []
   },
   "outputs": [
    {
     "name": "stdout",
     "output_type": "stream",
     "text": [
      "黄泽波 http://www2.scut.edu.cn/sp/2018/0307/c11280a256174/page.htm\n",
      "尹寿伟 http://www2.scut.edu.cn/sp/2017/0717/c11280a173370/page.htm\n",
      "李宁 http://www2.scut.edu.cn/sp/2017/0717/c11280a173367/page.htm\n",
      "张立彦 http://www2.scut.edu.cn/sp/2017/0717/c11280a173365/page.htm\n",
      "朱思明 http://www2.scut.edu.cn/sp/2017/0717/c11280a173353/page.htm\n",
      "赵强忠 http://www2.scut.edu.cn/sp/2017/0717/c11280a173352/page.htm\n",
      "赵谋明 http://www2.scut.edu.cn/sp/2017/0717/c11280a173350/page.htm\n",
      "张学武 http://www2.scut.edu.cn/sp/2017/0717/c11280a173349/page.htm\n",
      "曾新安 http://www2.scut.edu.cn/sp/2017/0717/c11280a173347/page.htm\n",
      "余以刚 http://www2.scut.edu.cn/sp/2017/0717/c11280a173345/page.htm\n",
      "余 龙 http://www2.scut.edu.cn/sp/2017/0717/c11280a173343/page.htm\n",
      "于淑娟 http://www2.scut.edu.cn/sp/2017/0717/c11280a173341/page.htm\n",
      "杨晓泉 http://www2.scut.edu.cn/sp/2017/0717/c11280a173339/page.htm\n",
      "熊 犍 http://www2.scut.edu.cn/sp/2017/0717/c11280a173337/page.htm\n",
      "肖凯军 http://www2.scut.edu.cn/sp/2017/0717/c11280a173335/page.htm\n",
      "吴虹 http://www2.scut.edu.cn/sp/2017/0717/c11280a173333/page.htm\n",
      "吴晖 http://www2.scut.edu.cn/sp/2017/0717/c11280a173332/page.htm\n",
      "魏 东 http://www2.scut.edu.cn/sp/2017/0717/c11280a173330/page.htm\n",
      "王永华 http://www2.scut.edu.cn/sp/2017/0717/c11280a173328/page.htm\n",
      "唐传核 http://www2.scut.edu.cn/sp/2017/0717/c11280a173327/page.htm\n",
      "孙为正 http://www2.scut.edu.cn/sp/2017/0717/c11280a173326/page.htm\n",
      "任娇艳 http://www2.scut.edu.cn/sp/2017/0717/c11280a173320/page.htm\n",
      "宁正祥 http://www2.scut.edu.cn/sp/2017/0717/c11280a173319/page.htm\n",
      "罗志刚 http://www2.scut.edu.cn/sp/2017/0717/c11280a173317/page.htm\n",
      "娄文勇 http://www2.scut.edu.cn/sp/2017/0717/c11280a173316/page.htm\n",
      "刘国琴 http://www2.scut.edu.cn/sp/2017/0717/c11280a173313/page.htm\n",
      "刘冬梅 http://www2.scut.edu.cn/sp/2017/0717/c11280a173311/page.htm\n",
      "李晓玺 http://www2.scut.edu.cn/sp/2017/0717/c11280a173310/page.htm\n",
      "李晓凤 http://www2.scut.edu.cn/sp/2017/0717/c11280a173308/page.htm\n",
      "李 理 http://www2.scut.edu.cn/sp/2017/0717/c11280a173306/page.htm\n",
      "李冰 http://www2.scut.edu.cn/sp/2017/0717/c11280a173305/page.htm\n",
      "齐军茹 http://www2.scut.edu.cn/sp/2017/0717/c11280a173303/page.htm\n",
      "李汴生 http://www2.scut.edu.cn/sp/2017/0717/c11280a173301/page.htm\n",
      "姜建国 http://www2.scut.edu.cn/sp/2017/0717/c11280a173299/page.htm\n",
      "黄惠华 http://www2.scut.edu.cn/sp/2017/0717/c11280a173298/page.htm\n",
      "胡松青 http://www2.scut.edu.cn/sp/2017/0717/c11280a173296/page.htm\n",
      "何小维 http://www2.scut.edu.cn/sp/2017/0717/c11280a173295/page.htm\n",
      "黄强 http://www2.scut.edu.cn/sp/2017/0717/c11280a173294/page.htm\n",
      "高群玉 http://www2.scut.edu.cn/sp/2017/0717/c11280a173292/page.htm\n",
      "扶雄 http://www2.scut.edu.cn/sp/2017/0717/c11280a173289/page.htm\n",
      "黄明涛 http://www2.scut.edu.cn/sp/2017/0717/c11280a326872/page.htm\n",
      "崔春 http://www2.scut.edu.cn/sp/2017/0717/c11280a173287/page.htm\n",
      "陈玲 http://www2.scut.edu.cn/sp/2017/0717/c11280a173283/page.htm\n",
      "蔡俊鹏 http://www2.scut.edu.cn/sp/2017/0717/c11280a173279/page.htm\n",
      "陈 谷 http://www2.scut.edu.cn/sp/2017/0717/c11280a173278/page.htm\n",
      "郑建仙 http://www2.scut.edu.cn/sp/2017/0711/c11280a170921/page.htm\n",
      "宗敏华 http://www2.scut.edu.cn/sp/2017/0711/c11280a170905/page.htm\n",
      "许喜林 http://www2.scut.edu.cn/sp/2017/0717/c11282a173374/page.htm\n",
      "韦庆益 http://www2.scut.edu.cn/sp/2017/0717/c11282a173373/page.htm\n",
      "徐振波 http://www2.scut.edu.cn/sp/2017/0717/c11282a173372/page.htm\n",
      "阮征 http://www2.scut.edu.cn/sp/2017/0717/c11282a173371/page.htm\n",
      "刘通讯 http://www2.scut.edu.cn/sp/2017/0717/c11282a173369/page.htm\n",
      "袁尔东 http://www2.scut.edu.cn/sp/2017/0717/c11282a173368/page.htm\n",
      "张本山 http://www2.scut.edu.cn/sp/2017/0717/c11282a173366/page.htm\n",
      "黄立新 http://www2.scut.edu.cn/sp/2017/0717/c11282a173364/page.htm\n",
      "郑必胜 http://www2.scut.edu.cn/sp/2017/0717/c11282a173363/page.htm\n",
      "胡飞 http://www2.scut.edu.cn/sp/2017/0717/c11282a173362/page.htm\n",
      "朱 良 http://www2.scut.edu.cn/sp/2017/0717/c11282a173361/page.htm\n",
      "高文宏 http://www2.scut.edu.cn/sp/2017/0717/c11282a173360/page.htm\n",
      "范晓丹 http://www2.scut.edu.cn/sp/2017/0717/c11282a173357/page.htm\n",
      "朱志伟 http://www2.scut.edu.cn/sp/2017/0717/c11282a173358/page.htm\n",
      "陈中 http://www2.scut.edu.cn/sp/2017/0717/c11282a173355/page.htm\n",
      "赵振刚 http://www2.scut.edu.cn/sp/2017/0717/c11282a173356/page.htm\n",
      "陈 健 http://www2.scut.edu.cn/sp/2017/0717/c11282a173255/page.htm\n",
      "王方华 http://www2.scut.edu.cn/sp/2017/0717/c11282a173338/page.htm\n",
      "张斌 http://www2.scut.edu.cn/sp/2017/0717/c11282a313568/page.htm\n",
      "王金梅 http://www2.scut.edu.cn/sp/2017/0717/c11282a173297/page.htm\n",
      "孟赫诚 http://www2.scut.edu.cn/sp/2017/0717/c11282a173291/page.htm\n",
      "郭新波 http://www2.scut.edu.cn/sp/2017/0717/c11282a173280/page.htm\n",
      "蒲洪彬 http://www2.scut.edu.cn/sp/2017/0717/c11282a173266/page.htm\n",
      "李超 http://www2.scut.edu.cn/sp/2017/0717/c11282a373359/page.htm\n",
      "成军虎 http://www2.scut.edu.cn/sp/2017/0717/c11282a173260/page.htm\n",
      "张霞 http://www2.scut.edu.cn/sp/2017/0717/c11282a313569/page.htm\n",
      "赵海锋 http://www2.scut.edu.cn/sp/2017/0717/c11281a173351/page.htm\n",
      "林恋竹 http://www2.scut.edu.cn/sp/2017/0717/c11281a173322/page.htm\n",
      "闫鹤 http://www2.scut.edu.cn/sp/2017/0717/c11283a173344/page.htm\n",
      "肖性龙 http://www2.scut.edu.cn/sp/2017/0717/c11283a173342/page.htm\n",
      "王兆梅 http://www2.scut.edu.cn/sp/2017/0717/c11283a173340/page.htm\n",
      "王娟 http://www2.scut.edu.cn/sp/2017/0717/c11283a173336/page.htm\n",
      "唐语谦 http://www2.scut.edu.cn/sp/2017/0717/c11283a173334/page.htm\n",
      "申益 http://www2.scut.edu.cn/sp/2017/0717/c11283a173331/page.htm\n",
      "苏国万 http://www2.scut.edu.cn/sp/2017/0717/c11283a173329/page.htm\n",
      "朴金花 http://www2.scut.edu.cn/sp/2017/0717/c11283a173323/page.htm\n",
      "刘宏生 http://www2.scut.edu.cn/sp/2017/0717/c11283a173318/page.htm\n",
      "韩 忠 http://www2.scut.edu.cn/sp/2017/0717/c11283a173315/page.htm\n",
      "游丽君 http://www2.scut.edu.cn/sp/2017/0717/c11283a297617/page.htm\n",
      "万芝力 http://www2.scut.edu.cn/sp/2017/0717/c11283a173267/page.htm\n",
      "蓝东明 http://www2.scut.edu.cn/sp/2017/0717/c11283a173265/page.htm\n",
      "冯云子 http://www2.scut.edu.cn/sp/2017/0717/c11283a173259/page.htm\n",
      "杨继国 http://www2.scut.edu.cn/sp/2017/0717/c25848a173346/page.htm\n",
      "苏健裕 http://www2.scut.edu.cn/sp/2017/0717/c25848a173325/page.htm\n",
      "耿予欢 http://www2.scut.edu.cn/sp/2017/0717/c11284a173312/page.htm\n",
      "徐荣雄 http://www2.scut.edu.cn/sp/2017/0717/c11285a173304/page.htm\n",
      "王炜 http://www2.scut.edu.cn/sp/2017/0717/c11285a173302/page.htm\n",
      "王启军 http://www2.scut.edu.cn/sp/2017/0717/c11285a173300/page.htm\n",
      "戚穗坚 http://www2.scut.edu.cn/sp/2017/0717/c11285a173293/page.htm\n",
      "刘鹏展 http://www2.scut.edu.cn/sp/2017/0717/c11285a173288/page.htm\n",
      "李文美 http://www2.scut.edu.cn/sp/2017/0717/c11285a173285/page.htm\n",
      "林伟锋 http://www2.scut.edu.cn/sp/2017/0717/c11285a173282/page.htm\n",
      "张喜梅 http://www2.scut.edu.cn/sp/2017/0913/c11286a209542/page.htm\n",
      "郭健 http://www2.scut.edu.cn/sp/2017/0717/c11286a173261/page.htm\n",
      "袁琨 http://www2.scut.edu.cn/sp/2017/0717/c11286a173269/page.htm\n",
      "周非白 http://www2.scut.edu.cn/sp/2017/0717/c11286a173256/page.htm\n"
     ]
    }
   ],
   "source": [
    "for i in range(len(a)):\n",
    "    if len(a[i].get(\"href\").split(\"/page\")) != 1:\n",
    "        print(a[i].get(\"title\"), \n",
    "              \"http://www2.scut.edu.cn\" + a[i].get(\"href\"))"
   ]
  },
  {
   "cell_type": "code",
   "execution_count": 26,
   "id": "d4a44055",
   "metadata": {},
   "outputs": [],
   "source": [
    "url1 = \"http://www2.scut.edu.cn/sp/2017/0717/c11280a173294/page.htm\"\n",
    "r1 = requests.get(url1)\n",
    "r1.encoding = r1.apparent_encoding\n",
    "soup1 = BeautifulSoup(r1.text)"
   ]
  },
  {
   "cell_type": "code",
   "execution_count": 27,
   "id": "a66c6fd1",
   "metadata": {},
   "outputs": [],
   "source": [
    "for i in soup1.find_all(\"span\", {\"style\": \"font-family:宋体, simsun;font-size:16px;\"})[:8]:\n",
    "    print(i.text)"
   ]
  },
  {
   "cell_type": "code",
   "execution_count": null,
   "id": "41374e0f",
   "metadata": {},
   "outputs": [],
   "source": []
  }
 ],
 "metadata": {
  "kernelspec": {
   "display_name": "Python 3",
   "language": "python",
   "name": "python3"
  },
  "language_info": {
   "codemirror_mode": {
    "name": "ipython",
    "version": 3
   },
   "file_extension": ".py",
   "mimetype": "text/x-python",
   "name": "python",
   "nbconvert_exporter": "python",
   "pygments_lexer": "ipython3",
   "version": "3.9.2"
  }
 },
 "nbformat": 4,
 "nbformat_minor": 5
}
